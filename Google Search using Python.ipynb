{
 "cells": [
  {
   "cell_type": "code",
   "execution_count": 1,
   "metadata": {},
   "outputs": [],
   "source": [
    "#pip install google\n",
    "from googlesearch import search"
   ]
  },
  {
   "cell_type": "code",
   "execution_count": 2,
   "metadata": {},
   "outputs": [
    {
     "name": "stdout",
     "output_type": "stream",
     "text": [
      "https://www.python.org/\n",
      "https://en.wikipedia.org/wiki/Python_(programming_language)\n",
      "https://www.w3schools.com/python/\n",
      "https://www.w3schools.com/python/python_intro.asp\n",
      "https://commons.wikimedia.org/wiki/File:Python_logo_and_wordmark.svg\n",
      "https://www.tutorialspoint.com/python/index.htm\n",
      "https://www.thehindu.com/sci-tech/technology/python-beats-java-to-become-second-most-popular-programming-language/article33041250.ece\n",
      "https://channel9.msdn.com/Shows/AI-Show/Machine-Learning-and-Scientific-Computing-with-Python\n",
      "https://www.techrepublic.com/article/python-overtakes-java-to-become-the-second-most-popular-programming-language/\n",
      "https://www.learnpython.org/\n"
     ]
    }
   ],
   "source": [
    "search_query='Python'\n",
    "for i in search(search_query,\n",
    "    tld='com',\n",
    "    lang='en',\n",
    "    num=10,\n",
    "    stop=10,\n",
    "    pause=2.0):\n",
    "    print(i)\n",
    "    "
   ]
  },
  {
   "cell_type": "markdown",
   "metadata": {},
   "source": [
    "\n",
    "##### Like | Share | Subscribe to :  <a href=\"https://www.youtube.com/channel/UCY94xPO3da1xtmKgWQriuPw?sub_confirmation=1\">ASA Learning</a> | <a href=\"https://www.youtube.com/channel/UCRuIm3NMzupmtUuX8DIasvQ?sub_confirmation=1\">ASA Learning Tamil</a> | <a href=\"https://www.youtube.com/channel/UCi-eMzVBm4J606TF_jdPL6g?sub_confirmation=1\">ASA Learning Kannada</a>"
   ]
  }
 ],
 "metadata": {
  "kernelspec": {
   "display_name": "Python 3",
   "language": "python",
   "name": "python3"
  },
  "language_info": {
   "codemirror_mode": {
    "name": "ipython",
    "version": 3
   },
   "file_extension": ".py",
   "mimetype": "text/x-python",
   "name": "python",
   "nbconvert_exporter": "python",
   "pygments_lexer": "ipython3",
   "version": "3.7.3"
  }
 },
 "nbformat": 4,
 "nbformat_minor": 4
}
