{
 "cells": [
  {
   "cell_type": "markdown",
   "metadata": {},
   "source": [
    "### TextBlob - Python library - Processing textual data\n",
    "\n",
    "#### Explained in Minutes #10  - ASA Learning"
   ]
  },
  {
   "cell_type": "code",
   "execution_count": 1,
   "metadata": {},
   "outputs": [],
   "source": [
    "# Import TextBlob\n",
    "from textblob import TextBlob"
   ]
  },
  {
   "cell_type": "code",
   "execution_count": 2,
   "metadata": {},
   "outputs": [],
   "source": [
    "text = \"Welcme to TextBlob intodction by ASA larnig\""
   ]
  },
  {
   "cell_type": "code",
   "execution_count": 3,
   "metadata": {},
   "outputs": [],
   "source": [
    "blob = TextBlob(text)"
   ]
  },
  {
   "cell_type": "markdown",
   "metadata": {},
   "source": [
    "#### Spell Checker"
   ]
  },
  {
   "cell_type": "code",
   "execution_count": 4,
   "metadata": {},
   "outputs": [
    {
     "data": {
      "text/plain": [
       "TextBlob(\"Welcome to TextBlob introduction by ASA learning\")"
      ]
     },
     "execution_count": 4,
     "metadata": {},
     "output_type": "execute_result"
    }
   ],
   "source": [
    "blob.correct()"
   ]
  },
  {
   "cell_type": "code",
   "execution_count": 5,
   "metadata": {},
   "outputs": [],
   "source": [
    "rishabh = '''It's one of my bigggest dys in life. \n",
    "The support the teamm has given me even when I was not playng has \n",
    "been incredble. It's a drream come tru.  \n",
    "The team mangement always backs me and tels me you are match-winner \n",
    "and you haave to go out there and win and I am hapy I did it tooday. \n",
    "It waas a fifth day pitch and the blll wass turnng.'''"
   ]
  },
  {
   "cell_type": "code",
   "execution_count": 6,
   "metadata": {},
   "outputs": [],
   "source": [
    "blob = TextBlob(rishabh)"
   ]
  },
  {
   "cell_type": "code",
   "execution_count": 7,
   "metadata": {},
   "outputs": [
    {
     "data": {
      "text/plain": [
       "TextBlob(\"It's one of my biggest days in life. \n",
       "The support the team has given me even when I was not playing has \n",
       "been incredible. It's a dream come true.  \n",
       "The team management always backs me and tell me you are match-winner \n",
       "and you have to go out there and win and I am happy I did it today. \n",
       "It was a fifth day pitch and the ball was turning.\")"
      ]
     },
     "execution_count": 7,
     "metadata": {},
     "output_type": "execute_result"
    }
   ],
   "source": [
    "blob.correct()"
   ]
  },
  {
   "cell_type": "code",
   "execution_count": 8,
   "metadata": {},
   "outputs": [
    {
     "data": {
      "text/plain": [
       "'en'"
      ]
     },
     "execution_count": 8,
     "metadata": {},
     "output_type": "execute_result"
    }
   ],
   "source": [
    "# Detect the language of your text\n",
    "blob.detect_language()"
   ]
  },
  {
   "cell_type": "code",
   "execution_count": 9,
   "metadata": {},
   "outputs": [
    {
     "data": {
      "text/plain": [
       "TextBlob(\"It's one of my biggest days in life. \n",
       "The support the team has given me even when I was not playing has \n",
       "been incredible. It's a dream come true.  \n",
       "The team management always backs me and tell me you are match-winner \n",
       "and you have to go out there and win and I am happy I did it today. \n",
       "It was a fifth day pitch and the ball was turning.\")"
      ]
     },
     "execution_count": 9,
     "metadata": {},
     "output_type": "execute_result"
    }
   ],
   "source": [
    "correctedtext = blob.correct()\n",
    "correctedtext"
   ]
  },
  {
   "cell_type": "code",
   "execution_count": 10,
   "metadata": {},
   "outputs": [
    {
     "name": "stdout",
     "output_type": "stream",
     "text": [
      "IT'S ONE OF MY BIGGEST DAYS IN LIFE. \n",
      "THE SUPPORT THE TEAM HAS GIVEN ME EVEN WHEN I WAS NOT PLAYING HAS \n",
      "BEEN INCREDIBLE. IT'S A DREAM COME TRUE.  \n",
      "THE TEAM MANAGEMENT ALWAYS BACKS ME AND TELL ME YOU ARE MATCH-WINNER \n",
      "AND YOU HAVE TO GO OUT THERE AND WIN AND I AM HAPPY I DID IT TODAY. \n",
      "IT WAS A FIFTH DAY PITCH AND THE BALL WAS TURNING.\n"
     ]
    }
   ],
   "source": [
    "# convert to Upper case\n",
    "print(correctedtext.upper())"
   ]
  },
  {
   "cell_type": "code",
   "execution_count": 11,
   "metadata": {},
   "outputs": [
    {
     "name": "stdout",
     "output_type": "stream",
     "text": [
      "it's one of my biggest days in life. \n",
      "the support the team has given me even when i was not playing has \n",
      "been incredible. it's a dream come true.  \n",
      "the team management always backs me and tell me you are match-winner \n",
      "and you have to go out there and win and i am happy i did it today. \n",
      "it was a fifth day pitch and the ball was turning.\n"
     ]
    }
   ],
   "source": [
    "# convert to lower case\n",
    "print(correctedtext.lower())"
   ]
  },
  {
   "cell_type": "code",
   "execution_count": 12,
   "metadata": {},
   "outputs": [
    {
     "data": {
      "text/plain": [
       "0.7124999999999999"
      ]
     },
     "execution_count": 12,
     "metadata": {},
     "output_type": "execute_result"
    }
   ],
   "source": [
    "# Polarity is float which lies in the range of [-1,1] \n",
    "# where 1 means positive statement and -1 means a negative statement\n",
    "correctedtext.polarity"
   ]
  },
  {
   "cell_type": "code",
   "execution_count": 13,
   "metadata": {},
   "outputs": [
    {
     "data": {
      "text/plain": [
       "0.7375"
      ]
     },
     "execution_count": 13,
     "metadata": {},
     "output_type": "execute_result"
    }
   ],
   "source": [
    "# Subjectivity refers that mostly it is a public opinion \n",
    "# An explanatory article which must be analysed in context.\n",
    "correctedtext.subjectivity"
   ]
  },
  {
   "cell_type": "code",
   "execution_count": 14,
   "metadata": {},
   "outputs": [
    {
     "name": "stdout",
     "output_type": "stream",
     "text": [
      "[Sentence(\"It's one of my biggest days in life.\"), Sentence(\"The support the team has given me even when I was not playing has \n",
      "been incredible.\"), Sentence(\"It's a dream come true.\"), Sentence(\"The team management always backs me and tell me you are match-winner \n",
      "and you have to go out there and win and I am happy I did it today.\"), Sentence(\"It was a fifth day pitch and the ball was turning.\")]\n"
     ]
    }
   ],
   "source": [
    "# Sentences from text\n",
    "print(correctedtext.sentences)"
   ]
  },
  {
   "cell_type": "code",
   "execution_count": 15,
   "metadata": {},
   "outputs": [
    {
     "name": "stdout",
     "output_type": "stream",
     "text": [
      "['It', \"'s\", 'one', 'of', 'my', 'biggest', 'days', 'in', 'life', 'The', 'support', 'the', 'team', 'has', 'given', 'me', 'even', 'when', 'I', 'was', 'not', 'playing', 'has', 'been', 'incredible', 'It', \"'s\", 'a', 'dream', 'come', 'true', 'The', 'team', 'management', 'always', 'backs', 'me', 'and', 'tell', 'me', 'you', 'are', 'match-winner', 'and', 'you', 'have', 'to', 'go', 'out', 'there', 'and', 'win', 'and', 'I', 'am', 'happy', 'I', 'did', 'it', 'today', 'It', 'was', 'a', 'fifth', 'day', 'pitch', 'and', 'the', 'ball', 'was', 'turning']\n"
     ]
    }
   ],
   "source": [
    "# Get the list of words\n",
    "print(correctedtext.words)"
   ]
  },
  {
   "cell_type": "code",
   "execution_count": 16,
   "metadata": {},
   "outputs": [
    {
     "name": "stdout",
     "output_type": "stream",
     "text": [
      "defaultdict(<class 'int'>, {'it': 4, 's': 2, 'one': 1, 'of': 1, 'my': 1, 'biggest': 1, 'days': 1, 'in': 1, 'life': 1, 'the': 4, 'support': 1, 'team': 2, 'has': 2, 'given': 1, 'me': 3, 'even': 1, 'when': 1, 'i': 3, 'was': 3, 'not': 1, 'playing': 1, 'been': 1, 'incredible': 1, 'a': 2, 'dream': 1, 'come': 1, 'true': 1, 'management': 1, 'always': 1, 'backs': 1, 'and': 5, 'tell': 1, 'you': 2, 'are': 1, 'match-winner': 1, 'have': 1, 'to': 1, 'go': 1, 'out': 1, 'there': 1, 'win': 1, 'am': 1, 'happy': 1, 'did': 1, 'today': 1, 'fifth': 1, 'day': 1, 'pitch': 1, 'ball': 1, 'turning': 1})\n"
     ]
    }
   ],
   "source": [
    "# Get the word count\n",
    "print(correctedtext.word_counts)"
   ]
  },
  {
   "cell_type": "markdown",
   "metadata": {},
   "source": [
    "##### Get the Part of Speech tags for the text"
   ]
  },
  {
   "cell_type": "code",
   "execution_count": 17,
   "metadata": {},
   "outputs": [
    {
     "name": "stdout",
     "output_type": "stream",
     "text": [
      "[('It', 'PRP'), (\"'s\", 'VBZ'), ('one', 'CD'), ('of', 'IN'), ('my', 'PRP$'), ('biggest', 'JJS'), ('days', 'NNS'), ('in', 'IN'), ('life', 'NN'), ('The', 'DT'), ('support', 'NN'), ('the', 'DT'), ('team', 'NN'), ('has', 'VBZ'), ('given', 'VBN'), ('me', 'PRP'), ('even', 'RB'), ('when', 'WRB'), ('I', 'PRP'), ('was', 'VBD'), ('not', 'RB'), ('playing', 'VBG'), ('has', 'VBZ'), ('been', 'VBN'), ('incredible', 'JJ'), ('It', 'PRP'), (\"'s\", 'VBZ'), ('a', 'DT'), ('dream', 'NN'), ('come', 'NN'), ('true', 'JJ'), ('The', 'DT'), ('team', 'NN'), ('management', 'NN'), ('always', 'RB'), ('backs', 'VBZ'), ('me', 'PRP'), ('and', 'CC'), ('tell', 'VB'), ('me', 'PRP'), ('you', 'PRP'), ('are', 'VBP'), ('match-winner', 'JJ'), ('and', 'CC'), ('you', 'PRP'), ('have', 'VBP'), ('to', 'TO'), ('go', 'VB'), ('out', 'RP'), ('there', 'RB'), ('and', 'CC'), ('win', 'VB'), ('and', 'CC'), ('I', 'PRP'), ('am', 'VBP'), ('happy', 'JJ'), ('I', 'PRP'), ('did', 'VBD'), ('it', 'PRP'), ('today', 'NN'), ('It', 'PRP'), ('was', 'VBD'), ('a', 'DT'), ('fifth', 'JJ'), ('day', 'NN'), ('pitch', 'NN'), ('and', 'CC'), ('the', 'DT'), ('ball', 'NN'), ('was', 'VBD'), ('turning', 'VBG')]\n"
     ]
    }
   ],
   "source": [
    "print(correctedtext.tags)"
   ]
  },
  {
   "cell_type": "markdown",
   "metadata": {},
   "source": [
    "- CC Coordinating conjunction\n",
    "- CD Cardinal number\n",
    "- DT Determiner\n",
    "- EX Existential there\n",
    "- FW Foreign word\n",
    "- IN Preposition or subordinating conjunction\n",
    "- JJ Adjective\n",
    "- JJR Adjective, comparative\n",
    "- JJS Adjective, superlative\n",
    "- LS List item marker\n",
    "- MD Modal\n",
    "- NN Noun, singular or mass\n",
    "- NNS Noun, plural\n",
    "- NNP Proper noun, singular\n",
    "- NNPS Proper noun, plural\n",
    "- PDT Predeterminer\n",
    "- POS Possessive ending\n",
    "- PRP Personal pronoun\n",
    "- PRPS Possessive pronoun\n",
    "- RB Adverb\n",
    "- RBR Adverb, comparative\n",
    "- RBS Adverb, superlative\n",
    "- RP Particle\n",
    "- SYM Symbol\n",
    "- TO to\n",
    "- UH Interjection\n",
    "- VB Verb, base form\n",
    "- VBD Verb, past tense\n",
    "- VBG Verb, gerund or present participle\n",
    "- VBN Verb, past participle\n",
    "- VBP Verb, non3rd person singular present\n",
    "- VBZ Verb, 3rd person singular present\n",
    "- WDT Whdeterminer\n",
    "- WP Whpronoun\n",
    "- WPS Possessive whpronoun\n",
    "- WRB Whadverb"
   ]
  },
  {
   "cell_type": "markdown",
   "metadata": {},
   "source": [
    "#### Translate the text"
   ]
  },
  {
   "cell_type": "code",
   "execution_count": 19,
   "metadata": {},
   "outputs": [
    {
     "name": "stdout",
     "output_type": "stream",
     "text": [
      "இது என் வாழ்க்கையில் மிகப்பெரிய நாட்களில் ஒன்றாகும்.\n",
      "நான் விளையாடாதபோது கூட அணி எனக்கு அளித்த ஆதரவு\n",
      "நம்பமுடியாததாக இருந்தது. இது ஒரு கனவு நனவாகும்.\n",
      "அணி நிர்வாகம் எப்போதும் என்னை ஆதரிக்கிறது, நீங்கள் போட்டியை வென்றவர் என்று சொல்லுங்கள்\n",
      "நீங்கள் அங்கு வெளியே சென்று வெல்ல வேண்டும், இன்று நான் செய்ததில் மகிழ்ச்சி அடைகிறேன்.\n",
      "இது ஐந்தாவது நாள் சுருதி மற்றும் பந்து திரும்பியது.\n"
     ]
    }
   ],
   "source": [
    "print(correctedtext.translate(to='ta'))"
   ]
  },
  {
   "cell_type": "markdown",
   "metadata": {},
   "source": [
    "##### Like | Share | Subscribe to :  <a href=\"https://www.youtube.com/channel/UCY94xPO3da1xtmKgWQriuPw?sub_confirmation=1\">ASA Learning</a> | <a href=\"https://www.youtube.com/channel/UCRuIm3NMzupmtUuX8DIasvQ?sub_confirmation=1\">ASA Learning Tamil</a> | <a href=\"https://www.youtube.com/channel/UCi-eMzVBm4J606TF_jdPL6g?sub_confirmation=1\">ASA Learning Kannada</a>"
   ]
  }
 ],
 "metadata": {
  "kernelspec": {
   "display_name": "Python 3",
   "language": "python",
   "name": "python3"
  },
  "language_info": {
   "codemirror_mode": {
    "name": "ipython",
    "version": 3
   },
   "file_extension": ".py",
   "mimetype": "text/x-python",
   "name": "python",
   "nbconvert_exporter": "python",
   "pygments_lexer": "ipython3",
   "version": "3.7.3"
  }
 },
 "nbformat": 4,
 "nbformat_minor": 4
}
