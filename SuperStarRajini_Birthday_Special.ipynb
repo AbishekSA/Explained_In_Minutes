{
 "cells": [
  {
   "cell_type": "markdown",
   "metadata": {},
   "source": [
    "### Super Star Rajni Birthday Special - Alphabet Pattern - Title Card\n",
    "###### Like | Share | Subscribe to :  <a href=\"https://www.youtube.com/channel/UCY94xPO3da1xtmKgWQriuPw?sub_confirmation=1\">ASA Learning</a> | <a href=\"https://www.youtube.com/channel/UCRuIm3NMzupmtUuX8DIasvQ?sub_confirmation=1\">ASA Learning Tamil</a> | <a href=\"https://www.youtube.com/channel/UCi-eMzVBm4J606TF_jdPL6g?sub_confirmation=1\">ASA Learning Kannada</a>"
   ]
  },
  {
   "cell_type": "code",
   "execution_count": 3,
   "metadata": {},
   "outputs": [],
   "source": [
    "def letterR():\n",
    "    superstar=\"\"\n",
    "    for r in range(7):\n",
    "        for c in range(11):\n",
    "            if c==0 or (c==10 and (r!=0 and r!=3)) or ((r==0 or r==3) and (c>0 and c<10)):\n",
    "                superstar=superstar+\"•\"\n",
    "            else:\n",
    "                superstar=superstar+\" \"\n",
    "        superstar=superstar+\"\\n\"\n",
    "    return (superstar) "
   ]
  },
  {
   "cell_type": "code",
   "execution_count": 4,
   "metadata": {},
   "outputs": [],
   "source": [
    "def letterA():\n",
    "    superstar=\"\"\n",
    "    for r in range(7):\n",
    "        for c in range(11):\n",
    "            if (c==0 or c==10) or ((r==0 or r==3) and (c>0 and c<10)):\n",
    "                superstar=superstar+\"•\"\n",
    "            else:\n",
    "                superstar=superstar+\" \"\n",
    "        superstar=superstar+\"\\n\"\n",
    "    return superstar"
   ]
  },
  {
   "cell_type": "code",
   "execution_count": 5,
   "metadata": {},
   "outputs": [],
   "source": [
    "def letterJ():\n",
    "    superstar=\"\"\n",
    "    for r in range(7):\n",
    "        for c in range(11):\n",
    "            if c==5 or (r==0 and c!=5) or (r==6 and c<5):\n",
    "                superstar=superstar+\"•\"\n",
    "            else:\n",
    "                superstar=superstar+\" \"\n",
    "        superstar=superstar+\"\\n\"\n",
    "    return superstar"
   ]
  },
  {
   "cell_type": "code",
   "execution_count": 6,
   "metadata": {},
   "outputs": [],
   "source": [
    "def letterI():\n",
    "    superstar=\"\"\n",
    "    for r in range(7):\n",
    "        for c in range(11):\n",
    "            if c==5 or ((r==0 or r==6) and c!=5):\n",
    "                superstar=superstar+\"•\"\n",
    "            else:\n",
    "                superstar=superstar+\" \"\n",
    "        superstar=superstar+\"\\n\"\n",
    "    return superstar"
   ]
  },
  {
   "cell_type": "code",
   "execution_count": 7,
   "metadata": {},
   "outputs": [],
   "source": [
    "def letterN():\n",
    "    superstar=\"\"\n",
    "    for r in range(7):\n",
    "        for c in range(11):\n",
    "            if c==0 or c==6 or (r==c and (c>0 and c<6)):\n",
    "                superstar=superstar+\"•\"\n",
    "            else:\n",
    "                superstar=superstar+\" \"\n",
    "        superstar=superstar+\"\\n\"\n",
    "    return superstar"
   ]
  },
  {
   "cell_type": "code",
   "execution_count": 8,
   "metadata": {},
   "outputs": [],
   "source": [
    "finalstr=letterR()+\"\\n\"+letterA()+\"\\n\"+letterJ()+\"\\n\"+letterI()+\"\\n\"+letterN()+\"\\n\"+letterI()"
   ]
  },
  {
   "cell_type": "code",
   "execution_count": 9,
   "metadata": {},
   "outputs": [],
   "source": [
    "file = open(\"SuperStarRajiniTitle.txt\", \"w\") \n",
    "file.write(finalstr)\n",
    "file.close()"
   ]
  },
  {
   "cell_type": "markdown",
   "metadata": {},
   "source": [
    "#### Example to Print \"*\" in R-Shape"
   ]
  },
  {
   "cell_type": "code",
   "execution_count": 10,
   "metadata": {},
   "outputs": [
    {
     "name": "stdout",
     "output_type": "stream",
     "text": [
      "**********  \n",
      "*                  *\n",
      "*                  *\n",
      "**********  \n",
      "*                  *\n",
      "*                  *\n",
      "*                  *\n",
      "\n"
     ]
    }
   ],
   "source": [
    "superstar=\"\"\n",
    "for r in range(7):\n",
    "    for c in range(11):\n",
    "        if c==0 or (c==10 and (r!=0 and r!=3)) or ((r==0 or r==3) and (c>0 and c<10)):\n",
    "            superstar=superstar+\"*\"\n",
    "        else:\n",
    "            superstar=superstar+\"  \"\n",
    "    superstar=superstar+\"\\n\"\n",
    "print(superstar)\n",
    "            "
   ]
  },
  {
   "cell_type": "markdown",
   "metadata": {},
   "source": [
    "#### The ANSI escape code will set the text colour to Blue & Bkg colour to Black\n",
    "#### Format:\n",
    " *  \\033[  Escape code, this is always the same\n",
    " *  1 = Style, 1 for normal\n",
    " *  34 = Text colour, 32 for Blue\n",
    " *  40m = Background colour, 40 is for Black\n"
   ]
  },
  {
   "cell_type": "code",
   "execution_count": 11,
   "metadata": {},
   "outputs": [
    {
     "name": "stdout",
     "output_type": "stream",
     "text": [
      "\u001b[1;34;40m **********  \n",
      "*                  *\n",
      "*                  *\n",
      "**********  \n",
      "*                  *\n",
      "*                  *\n",
      "*                  *\n",
      "\n"
     ]
    }
   ],
   "source": [
    "print(\"\\033[1;34;40m\",superstar)"
   ]
  },
  {
   "cell_type": "code",
   "execution_count": null,
   "metadata": {},
   "outputs": [],
   "source": []
  },
  {
   "cell_type": "code",
   "execution_count": null,
   "metadata": {},
   "outputs": [],
   "source": []
  }
 ],
 "metadata": {
  "kernelspec": {
   "display_name": "Python 3",
   "language": "python",
   "name": "python3"
  },
  "language_info": {
   "codemirror_mode": {
    "name": "ipython",
    "version": 3
   },
   "file_extension": ".py",
   "mimetype": "text/x-python",
   "name": "python",
   "nbconvert_exporter": "python",
   "pygments_lexer": "ipython3",
   "version": "3.7.3"
  }
 },
 "nbformat": 4,
 "nbformat_minor": 4
}
