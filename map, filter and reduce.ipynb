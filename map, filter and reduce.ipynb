{
 "cells": [
  {
   "cell_type": "markdown",
   "metadata": {},
   "source": [
    "### map, filter and reduce -  Python Basics Series #6\n",
    "#### <a href=\"https://www.youtube.com/playlist?list=PLX9iXQ7KV9eqH-xrySuEgT0kE7qzzSGfk\"> Explained in Minutes</a> - #21 <a href=\"https://www.youtube.com/channel/UCY94xPO3da1xtmKgWQriuPw?sub_confirmation=1\">ASA Learning</a>"
   ]
  },
  {
   "cell_type": "code",
   "execution_count": 1,
   "metadata": {
    "scrolled": true
   },
   "outputs": [
    {
     "name": "stdout",
     "output_type": "stream",
     "text": [
      "<map object at 0x000000A86D17F668>\n",
      "[2, 4, 6, 8]\n"
     ]
    }
   ],
   "source": [
    "# map(function, iterables)  -  returns an output \n",
    "# after applying the function to each iterable present in the sequence\n",
    "\n",
    "def fn(a):\n",
    "    return a*2\n",
    "asamap = map(fn, (1,2,3,4))\n",
    "print(asamap)\n",
    "print(list(asamap))"
   ]
  },
  {
   "cell_type": "code",
   "execution_count": 2,
   "metadata": {},
   "outputs": [
    {
     "name": "stdout",
     "output_type": "stream",
     "text": [
      "[4, 16, 36, 64] [1, 9, 25, 49]\n"
     ]
    }
   ],
   "source": [
    "# more examples\n",
    "\n",
    "def sqfn(a):\n",
    "    return a*a\n",
    "\n",
    "asalist1 = [2,4,6,8]\n",
    "asalist2 = [1,3,5,7]\n",
    "\n",
    "x = list(map(sqfn, asalist1))\n",
    "y = list(map(sqfn, asalist2))\n",
    "\n",
    "print(x,y)"
   ]
  },
  {
   "cell_type": "code",
   "execution_count": 3,
   "metadata": {},
   "outputs": [
    {
     "name": "stdout",
     "output_type": "stream",
     "text": [
      "['A', 'B', 'C']\n"
     ]
    }
   ],
   "source": [
    "# Inbuilt functions with map example\n",
    "\n",
    "alpha = ['a','b','c']\n",
    "print(list(map(str.upper,alpha)))"
   ]
  },
  {
   "cell_type": "code",
   "execution_count": 4,
   "metadata": {},
   "outputs": [
    {
     "name": "stdout",
     "output_type": "stream",
     "text": [
      "[8, 64, 216, 512]\n"
     ]
    }
   ],
   "source": [
    "# Lambda functions with map()\n",
    "\n",
    "cubemap = list(map(lambda x: x*x*x , asalist1)) \n",
    "print(cubemap)"
   ]
  },
  {
   "cell_type": "code",
   "execution_count": 5,
   "metadata": {},
   "outputs": [
    {
     "name": "stdout",
     "output_type": "stream",
     "text": [
      "['madam', 'ASA', 'tattarrattat']\n"
     ]
    }
   ],
   "source": [
    "# filter(function, iterables) - passes each element in the iterable \n",
    "# through function and returns only the ones that evaluate to True\n",
    "\n",
    "#Fun Fact: The longest palindrome defined is 'tattarrattat', \n",
    "#          meaning 'a knock at the door'\n",
    "\n",
    "asalist = ('madam', 'ASA', 'Subscribe', 'tattarrattat', 'bell')\n",
    "\n",
    "asapld = list(filter(lambda a: a == a[::-1], asalist))   \n",
    "print(asapld)"
   ]
  },
  {
   "cell_type": "code",
   "execution_count": 6,
   "metadata": {},
   "outputs": [
    {
     "name": "stdout",
     "output_type": "stream",
     "text": [
      "120\n"
     ]
    }
   ],
   "source": [
    "# reduce(function, iterable) -reduces iterable into a single value \n",
    "from functools import reduce\n",
    "\n",
    "asalist = [1,2,3,4,5]\n",
    "\n",
    "def mul(a, b):\n",
    "    return a * b\n",
    "\n",
    "#cumulatively\n",
    "print(reduce(mul, asalist))"
   ]
  },
  {
   "cell_type": "markdown",
   "metadata": {},
   "source": [
    "##### Like | Share | Subscribe to :  <a href=\"https://www.youtube.com/channel/UCY94xPO3da1xtmKgWQriuPw?sub_confirmation=1\">ASA Learning</a> | <a href=\"https://www.youtube.com/channel/UCRuIm3NMzupmtUuX8DIasvQ?sub_confirmation=1\">ASA Learning Tamil</a> | <a href=\"https://www.youtube.com/channel/UCi-eMzVBm4J606TF_jdPL6g?sub_confirmation=1\">ASA Learning Kannada</a>"
   ]
  }
 ],
 "metadata": {
  "kernelspec": {
   "display_name": "Python 3",
   "language": "python",
   "name": "python3"
  },
  "language_info": {
   "codemirror_mode": {
    "name": "ipython",
    "version": 3
   },
   "file_extension": ".py",
   "mimetype": "text/x-python",
   "name": "python",
   "nbconvert_exporter": "python",
   "pygments_lexer": "ipython3",
   "version": "3.7.3"
  }
 },
 "nbformat": 4,
 "nbformat_minor": 4
}
